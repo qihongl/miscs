{
 "cells": [
  {
   "cell_type": "code",
   "execution_count": 3,
   "metadata": {},
   "outputs": [],
   "source": [
    "import numpy as np\n",
    "from sklearn.svm import SVC"
   ]
  },
  {
   "cell_type": "code",
   "execution_count": 21,
   "metadata": {},
   "outputs": [
    {
     "name": "stdout",
     "output_type": "stream",
     "text": [
      "[0 1]\n",
      "[[0.33616047 0.66383953]\n",
      " [0.66083531 0.33916469]]\n"
     ]
    }
   ],
   "source": [
    "# train a svm \n",
    "X = np.array([[-1, -1], [1, 1]])\n",
    "y = np.array([0, 1])\n",
    "svm = SVC(probability=True)\n",
    "svm.fit(X, y) \n",
    "\n",
    "# SVM makes reasonable prediction on the learned examples... \n",
    "print(svm.predict(X))\n",
    "\n",
    "# but it makes the reversed probability estimates... \n",
    "print(svm.predict_proba(X))"
   ]
  },
  {
   "cell_type": "code",
   "execution_count": 24,
   "metadata": {},
   "outputs": [
    {
     "name": "stdout",
     "output_type": "stream",
     "text": [
      ".predict_proba largely consistent with the .predict\n"
     ]
    },
    {
     "name": "stderr",
     "output_type": "stream",
     "text": [
      "/Users/Qihong/anaconda/envs/brainiak/lib/python3.6/site-packages/sklearn/svm/base.py:196: FutureWarning: The default value of gamma will change from 'auto' to 'scale' in version 0.22 to account better for unscaled features. Set gamma explicitly to 'auto' or 'scale' to avoid this warning.\n",
      "  \"avoid this warning.\", FutureWarning)\n"
     ]
    }
   ],
   "source": [
    "# it turns out that this problem doesn't show up for 3 way classification\n",
    "# reference: https://github.com/scikit-learn/scikit-learn/blob/master/sklearn/svm/tests/test_svm.py#L307\n",
    "from sklearn import datasets\n",
    "iris = datasets.load_iris()\n",
    "clf = SVC(probability=True)\n",
    "clf.fit(iris.data, iris.target)\n",
    "prob_predict = clf.predict_proba(iris.data)\n",
    "\n",
    "if np.mean(np.argmax(prob_predict, axis=1) == clf.predict(iris.data)) > 0.9: \n",
    "    print('.predict_proba largely consistent with the .predict')"
   ]
  },
  {
   "cell_type": "code",
   "execution_count": null,
   "metadata": {},
   "outputs": [],
   "source": []
  }
 ],
 "metadata": {
  "kernelspec": {
   "display_name": "Python 3",
   "language": "python",
   "name": "python3"
  },
  "language_info": {
   "codemirror_mode": {
    "name": "ipython",
    "version": 3
   },
   "file_extension": ".py",
   "mimetype": "text/x-python",
   "name": "python",
   "nbconvert_exporter": "python",
   "pygments_lexer": "ipython3",
   "version": "3.6.1"
  }
 },
 "nbformat": 4,
 "nbformat_minor": 2
}
